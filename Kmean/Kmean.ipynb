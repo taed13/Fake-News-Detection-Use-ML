{
 "cells": [
  {
   "cell_type": "code",
   "execution_count": 3,
   "metadata": {},
   "outputs": [],
   "source": [
    "#1.Import the relevant libraries"
   ]
  },
  {
   "cell_type": "code",
   "execution_count": 2,
   "metadata": {},
   "outputs": [],
   "source": [
    "import numpy as np\n",
    "import pandas as pd\n",
    "import matplotlib.pyplot as plt"
   ]
  },
  {
   "cell_type": "code",
   "execution_count": 3,
   "metadata": {},
   "outputs": [],
   "source": [
    "# 2. Load data"
   ]
  },
  {
   "cell_type": "code",
   "execution_count": 6,
   "metadata": {},
   "outputs": [
    {
     "data": {
      "text/html": [
       "<div>\n",
       "<style scoped>\n",
       "    .dataframe tbody tr th:only-of-type {\n",
       "        vertical-align: middle;\n",
       "    }\n",
       "\n",
       "    .dataframe tbody tr th {\n",
       "        vertical-align: top;\n",
       "    }\n",
       "\n",
       "    .dataframe thead th {\n",
       "        text-align: right;\n",
       "    }\n",
       "</style>\n",
       "<table border=\"1\" class=\"dataframe\">\n",
       "  <thead>\n",
       "    <tr style=\"text-align: right;\">\n",
       "      <th></th>\n",
       "      <th>name</th>\n",
       "      <th>Longitude</th>\n",
       "      <th>Latitude</th>\n",
       "    </tr>\n",
       "  </thead>\n",
       "  <tbody>\n",
       "    <tr>\n",
       "      <th>0</th>\n",
       "      <td>Aruba</td>\n",
       "      <td>-69.982677</td>\n",
       "      <td>12.520880</td>\n",
       "    </tr>\n",
       "    <tr>\n",
       "      <th>1</th>\n",
       "      <td>Afghanistan</td>\n",
       "      <td>66.004734</td>\n",
       "      <td>33.835231</td>\n",
       "    </tr>\n",
       "    <tr>\n",
       "      <th>2</th>\n",
       "      <td>Angola</td>\n",
       "      <td>17.537368</td>\n",
       "      <td>-12.293361</td>\n",
       "    </tr>\n",
       "    <tr>\n",
       "      <th>3</th>\n",
       "      <td>Anguilla</td>\n",
       "      <td>-63.064989</td>\n",
       "      <td>18.223959</td>\n",
       "    </tr>\n",
       "    <tr>\n",
       "      <th>4</th>\n",
       "      <td>Albania</td>\n",
       "      <td>20.049834</td>\n",
       "      <td>41.142450</td>\n",
       "    </tr>\n",
       "    <tr>\n",
       "      <th>5</th>\n",
       "      <td>Aland</td>\n",
       "      <td>19.953288</td>\n",
       "      <td>60.214887</td>\n",
       "    </tr>\n",
       "    <tr>\n",
       "      <th>6</th>\n",
       "      <td>Andorra</td>\n",
       "      <td>1.560544</td>\n",
       "      <td>42.542291</td>\n",
       "    </tr>\n",
       "    <tr>\n",
       "      <th>7</th>\n",
       "      <td>United Arab Emirates</td>\n",
       "      <td>54.300167</td>\n",
       "      <td>23.905282</td>\n",
       "    </tr>\n",
       "    <tr>\n",
       "      <th>8</th>\n",
       "      <td>Argentina</td>\n",
       "      <td>-65.179807</td>\n",
       "      <td>-35.381349</td>\n",
       "    </tr>\n",
       "    <tr>\n",
       "      <th>9</th>\n",
       "      <td>Armenia</td>\n",
       "      <td>44.929933</td>\n",
       "      <td>40.289526</td>\n",
       "    </tr>\n",
       "    <tr>\n",
       "      <th>10</th>\n",
       "      <td>American Samoa</td>\n",
       "      <td>-170.718026</td>\n",
       "      <td>-14.304460</td>\n",
       "    </tr>\n",
       "    <tr>\n",
       "      <th>11</th>\n",
       "      <td>Antarctica</td>\n",
       "      <td>19.921090</td>\n",
       "      <td>-80.508579</td>\n",
       "    </tr>\n",
       "    <tr>\n",
       "      <th>12</th>\n",
       "      <td>Ashmore and Cartier Is.</td>\n",
       "      <td>123.583838</td>\n",
       "      <td>-12.429932</td>\n",
       "    </tr>\n",
       "    <tr>\n",
       "      <th>13</th>\n",
       "      <td>Fr. S. Antarctic Lands</td>\n",
       "      <td>69.226668</td>\n",
       "      <td>-49.248955</td>\n",
       "    </tr>\n",
       "    <tr>\n",
       "      <th>14</th>\n",
       "      <td>Antigua and Barb.</td>\n",
       "      <td>-61.794693</td>\n",
       "      <td>17.277500</td>\n",
       "    </tr>\n",
       "    <tr>\n",
       "      <th>15</th>\n",
       "      <td>Australia</td>\n",
       "      <td>134.491000</td>\n",
       "      <td>-25.732887</td>\n",
       "    </tr>\n",
       "    <tr>\n",
       "      <th>16</th>\n",
       "      <td>Austria</td>\n",
       "      <td>14.126476</td>\n",
       "      <td>47.585494</td>\n",
       "    </tr>\n",
       "    <tr>\n",
       "      <th>17</th>\n",
       "      <td>Azerbaijan</td>\n",
       "      <td>47.545999</td>\n",
       "      <td>40.288272</td>\n",
       "    </tr>\n",
       "    <tr>\n",
       "      <th>18</th>\n",
       "      <td>Burundi</td>\n",
       "      <td>29.875122</td>\n",
       "      <td>-3.359397</td>\n",
       "    </tr>\n",
       "    <tr>\n",
       "      <th>19</th>\n",
       "      <td>Belgium</td>\n",
       "      <td>4.640651</td>\n",
       "      <td>50.639816</td>\n",
       "    </tr>\n",
       "    <tr>\n",
       "      <th>20</th>\n",
       "      <td>Benin</td>\n",
       "      <td>2.327853</td>\n",
       "      <td>9.641760</td>\n",
       "    </tr>\n",
       "    <tr>\n",
       "      <th>21</th>\n",
       "      <td>Burkina Faso</td>\n",
       "      <td>-1.754566</td>\n",
       "      <td>12.269538</td>\n",
       "    </tr>\n",
       "    <tr>\n",
       "      <th>22</th>\n",
       "      <td>Bangladesh</td>\n",
       "      <td>90.238127</td>\n",
       "      <td>23.867312</td>\n",
       "    </tr>\n",
       "    <tr>\n",
       "      <th>23</th>\n",
       "      <td>Bulgaria</td>\n",
       "      <td>25.215529</td>\n",
       "      <td>42.768903</td>\n",
       "    </tr>\n",
       "    <tr>\n",
       "      <th>24</th>\n",
       "      <td>Bahrain</td>\n",
       "      <td>50.541969</td>\n",
       "      <td>26.042051</td>\n",
       "    </tr>\n",
       "    <tr>\n",
       "      <th>25</th>\n",
       "      <td>Canada</td>\n",
       "      <td>-98.307770</td>\n",
       "      <td>61.362063</td>\n",
       "    </tr>\n",
       "    <tr>\n",
       "      <th>26</th>\n",
       "      <td>Bahamas</td>\n",
       "      <td>-76.628430</td>\n",
       "      <td>24.290367</td>\n",
       "    </tr>\n",
       "    <tr>\n",
       "      <th>27</th>\n",
       "      <td>Bosnia and Herz.</td>\n",
       "      <td>17.768767</td>\n",
       "      <td>44.174501</td>\n",
       "    </tr>\n",
       "    <tr>\n",
       "      <th>28</th>\n",
       "      <td>St-BarthÃ©lemy</td>\n",
       "      <td>-62.840678</td>\n",
       "      <td>17.898805</td>\n",
       "    </tr>\n",
       "    <tr>\n",
       "      <th>29</th>\n",
       "      <td>Belarus</td>\n",
       "      <td>28.032093</td>\n",
       "      <td>53.531314</td>\n",
       "    </tr>\n",
       "    <tr>\n",
       "      <th>30</th>\n",
       "      <td>Belize</td>\n",
       "      <td>-88.710105</td>\n",
       "      <td>17.200275</td>\n",
       "    </tr>\n",
       "    <tr>\n",
       "      <th>31</th>\n",
       "      <td>Bermuda</td>\n",
       "      <td>-64.754559</td>\n",
       "      <td>32.313678</td>\n",
       "    </tr>\n",
       "    <tr>\n",
       "      <th>32</th>\n",
       "      <td>Bolivia</td>\n",
       "      <td>-64.685386</td>\n",
       "      <td>-16.708148</td>\n",
       "    </tr>\n",
       "    <tr>\n",
       "      <th>33</th>\n",
       "      <td>Brazil</td>\n",
       "      <td>-53.097831</td>\n",
       "      <td>-10.787777</td>\n",
       "    </tr>\n",
       "    <tr>\n",
       "      <th>34</th>\n",
       "      <td>Barbados</td>\n",
       "      <td>-59.559797</td>\n",
       "      <td>13.181454</td>\n",
       "    </tr>\n",
       "    <tr>\n",
       "      <th>35</th>\n",
       "      <td>Brunei</td>\n",
       "      <td>114.722030</td>\n",
       "      <td>4.519690</td>\n",
       "    </tr>\n",
       "    <tr>\n",
       "      <th>36</th>\n",
       "      <td>Bhutan</td>\n",
       "      <td>90.401882</td>\n",
       "      <td>27.411066</td>\n",
       "    </tr>\n",
       "    <tr>\n",
       "      <th>37</th>\n",
       "      <td>Botswana</td>\n",
       "      <td>23.798534</td>\n",
       "      <td>-22.184032</td>\n",
       "    </tr>\n",
       "    <tr>\n",
       "      <th>38</th>\n",
       "      <td>Central African Rep.</td>\n",
       "      <td>20.468268</td>\n",
       "      <td>6.568233</td>\n",
       "    </tr>\n",
       "    <tr>\n",
       "      <th>39</th>\n",
       "      <td>Switzerland</td>\n",
       "      <td>8.208675</td>\n",
       "      <td>46.797859</td>\n",
       "    </tr>\n",
       "    <tr>\n",
       "      <th>40</th>\n",
       "      <td>Chile</td>\n",
       "      <td>-71.382562</td>\n",
       "      <td>-37.730710</td>\n",
       "    </tr>\n",
       "    <tr>\n",
       "      <th>41</th>\n",
       "      <td>China</td>\n",
       "      <td>103.819074</td>\n",
       "      <td>36.561765</td>\n",
       "    </tr>\n",
       "    <tr>\n",
       "      <th>42</th>\n",
       "      <td>CÃ´te d'Ivoire</td>\n",
       "      <td>-5.569216</td>\n",
       "      <td>7.628426</td>\n",
       "    </tr>\n",
       "    <tr>\n",
       "      <th>43</th>\n",
       "      <td>Cameroon</td>\n",
       "      <td>12.739642</td>\n",
       "      <td>5.691098</td>\n",
       "    </tr>\n",
       "    <tr>\n",
       "      <th>44</th>\n",
       "      <td>Dem. Rep. Congo</td>\n",
       "      <td>23.643961</td>\n",
       "      <td>-2.877463</td>\n",
       "    </tr>\n",
       "    <tr>\n",
       "      <th>45</th>\n",
       "      <td>Congo</td>\n",
       "      <td>15.219658</td>\n",
       "      <td>-0.837875</td>\n",
       "    </tr>\n",
       "    <tr>\n",
       "      <th>46</th>\n",
       "      <td>Cook Is.</td>\n",
       "      <td>-159.787242</td>\n",
       "      <td>-21.219273</td>\n",
       "    </tr>\n",
       "    <tr>\n",
       "      <th>47</th>\n",
       "      <td>Colombia</td>\n",
       "      <td>-73.081146</td>\n",
       "      <td>3.913834</td>\n",
       "    </tr>\n",
       "    <tr>\n",
       "      <th>48</th>\n",
       "      <td>Comoros</td>\n",
       "      <td>43.682540</td>\n",
       "      <td>-11.877834</td>\n",
       "    </tr>\n",
       "    <tr>\n",
       "      <th>49</th>\n",
       "      <td>Cape Verde</td>\n",
       "      <td>-23.959888</td>\n",
       "      <td>15.955233</td>\n",
       "    </tr>\n",
       "  </tbody>\n",
       "</table>\n",
       "</div>"
      ],
      "text/plain": [
       "                       name   Longitude   Latitude\n",
       "0                     Aruba  -69.982677  12.520880\n",
       "1               Afghanistan   66.004734  33.835231\n",
       "2                    Angola   17.537368 -12.293361\n",
       "3                  Anguilla  -63.064989  18.223959\n",
       "4                   Albania   20.049834  41.142450\n",
       "5                     Aland   19.953288  60.214887\n",
       "6                   Andorra    1.560544  42.542291\n",
       "7      United Arab Emirates   54.300167  23.905282\n",
       "8                 Argentina  -65.179807 -35.381349\n",
       "9                   Armenia   44.929933  40.289526\n",
       "10           American Samoa -170.718026 -14.304460\n",
       "11               Antarctica   19.921090 -80.508579\n",
       "12  Ashmore and Cartier Is.  123.583838 -12.429932\n",
       "13   Fr. S. Antarctic Lands   69.226668 -49.248955\n",
       "14        Antigua and Barb.  -61.794693  17.277500\n",
       "15                Australia  134.491000 -25.732887\n",
       "16                  Austria   14.126476  47.585494\n",
       "17               Azerbaijan   47.545999  40.288272\n",
       "18                  Burundi   29.875122  -3.359397\n",
       "19                  Belgium    4.640651  50.639816\n",
       "20                    Benin    2.327853   9.641760\n",
       "21             Burkina Faso   -1.754566  12.269538\n",
       "22               Bangladesh   90.238127  23.867312\n",
       "23                 Bulgaria   25.215529  42.768903\n",
       "24                  Bahrain   50.541969  26.042051\n",
       "25                   Canada  -98.307770  61.362063\n",
       "26                  Bahamas  -76.628430  24.290367\n",
       "27         Bosnia and Herz.   17.768767  44.174501\n",
       "28           St-BarthÃ©lemy  -62.840678  17.898805\n",
       "29                  Belarus   28.032093  53.531314\n",
       "30                   Belize  -88.710105  17.200275\n",
       "31                  Bermuda  -64.754559  32.313678\n",
       "32                  Bolivia  -64.685386 -16.708148\n",
       "33                   Brazil  -53.097831 -10.787777\n",
       "34                 Barbados  -59.559797  13.181454\n",
       "35                   Brunei  114.722030   4.519690\n",
       "36                   Bhutan   90.401882  27.411066\n",
       "37                 Botswana   23.798534 -22.184032\n",
       "38     Central African Rep.   20.468268   6.568233\n",
       "39              Switzerland    8.208675  46.797859\n",
       "40                    Chile  -71.382562 -37.730710\n",
       "41                    China  103.819074  36.561765\n",
       "42           CÃ´te d'Ivoire   -5.569216   7.628426\n",
       "43                 Cameroon   12.739642   5.691098\n",
       "44          Dem. Rep. Congo   23.643961  -2.877463\n",
       "45                    Congo   15.219658  -0.837875\n",
       "46                 Cook Is. -159.787242 -21.219273\n",
       "47                 Colombia  -73.081146   3.913834\n",
       "48                  Comoros   43.682540 -11.877834\n",
       "49               Cape Verde  -23.959888  15.955233"
      ]
     },
     "execution_count": 6,
     "metadata": {},
     "output_type": "execute_result"
    }
   ],
   "source": [
    "data = pd.read_csv('Countries-exercise.csv')\n",
    "data.head(50)\n"
   ]
  },
  {
   "cell_type": "code",
   "execution_count": 7,
   "metadata": {},
   "outputs": [
    {
     "data": {
      "text/plain": [
       "(241, 3)"
      ]
     },
     "execution_count": 7,
     "metadata": {},
     "output_type": "execute_result"
    }
   ],
   "source": [
    "data.shape"
   ]
  },
  {
   "cell_type": "code",
   "execution_count": 8,
   "metadata": {},
   "outputs": [
    {
     "data": {
      "text/html": [
       "<div>\n",
       "<style scoped>\n",
       "    .dataframe tbody tr th:only-of-type {\n",
       "        vertical-align: middle;\n",
       "    }\n",
       "\n",
       "    .dataframe tbody tr th {\n",
       "        vertical-align: top;\n",
       "    }\n",
       "\n",
       "    .dataframe thead th {\n",
       "        text-align: right;\n",
       "    }\n",
       "</style>\n",
       "<table border=\"1\" class=\"dataframe\">\n",
       "  <thead>\n",
       "    <tr style=\"text-align: right;\">\n",
       "      <th></th>\n",
       "      <th>Longitude</th>\n",
       "      <th>Latitude</th>\n",
       "    </tr>\n",
       "  </thead>\n",
       "  <tbody>\n",
       "    <tr>\n",
       "      <th>0</th>\n",
       "      <td>-69.982677</td>\n",
       "      <td>12.520880</td>\n",
       "    </tr>\n",
       "    <tr>\n",
       "      <th>1</th>\n",
       "      <td>66.004734</td>\n",
       "      <td>33.835231</td>\n",
       "    </tr>\n",
       "    <tr>\n",
       "      <th>2</th>\n",
       "      <td>17.537368</td>\n",
       "      <td>-12.293361</td>\n",
       "    </tr>\n",
       "    <tr>\n",
       "      <th>3</th>\n",
       "      <td>-63.064989</td>\n",
       "      <td>18.223959</td>\n",
       "    </tr>\n",
       "    <tr>\n",
       "      <th>4</th>\n",
       "      <td>20.049834</td>\n",
       "      <td>41.142450</td>\n",
       "    </tr>\n",
       "    <tr>\n",
       "      <th>...</th>\n",
       "      <td>...</td>\n",
       "      <td>...</td>\n",
       "    </tr>\n",
       "    <tr>\n",
       "      <th>236</th>\n",
       "      <td>-172.164851</td>\n",
       "      <td>-13.753243</td>\n",
       "    </tr>\n",
       "    <tr>\n",
       "      <th>237</th>\n",
       "      <td>47.586762</td>\n",
       "      <td>15.909280</td>\n",
       "    </tr>\n",
       "    <tr>\n",
       "      <th>238</th>\n",
       "      <td>25.083901</td>\n",
       "      <td>-29.000341</td>\n",
       "    </tr>\n",
       "    <tr>\n",
       "      <th>239</th>\n",
       "      <td>27.774759</td>\n",
       "      <td>-13.458242</td>\n",
       "    </tr>\n",
       "    <tr>\n",
       "      <th>240</th>\n",
       "      <td>29.851441</td>\n",
       "      <td>-19.004204</td>\n",
       "    </tr>\n",
       "  </tbody>\n",
       "</table>\n",
       "<p>241 rows × 2 columns</p>\n",
       "</div>"
      ],
      "text/plain": [
       "      Longitude   Latitude\n",
       "0    -69.982677  12.520880\n",
       "1     66.004734  33.835231\n",
       "2     17.537368 -12.293361\n",
       "3    -63.064989  18.223959\n",
       "4     20.049834  41.142450\n",
       "..          ...        ...\n",
       "236 -172.164851 -13.753243\n",
       "237   47.586762  15.909280\n",
       "238   25.083901 -29.000341\n",
       "239   27.774759 -13.458242\n",
       "240   29.851441 -19.004204\n",
       "\n",
       "[241 rows x 2 columns]"
      ]
     },
     "execution_count": 8,
     "metadata": {},
     "output_type": "execute_result"
    }
   ],
   "source": [
    "X = data.iloc[:, 1:3]\n",
    "X"
   ]
  },
  {
   "cell_type": "code",
   "execution_count": 9,
   "metadata": {},
   "outputs": [
    {
     "data": {
      "text/plain": [
       "(241, 2)"
      ]
     },
     "execution_count": 9,
     "metadata": {},
     "output_type": "execute_result"
    }
   ],
   "source": [
    "X.shape"
   ]
  },
  {
   "cell_type": "code",
   "execution_count": 10,
   "metadata": {},
   "outputs": [],
   "source": [
    "X = np.array(X)"
   ]
  },
  {
   "cell_type": "code",
   "execution_count": 11,
   "metadata": {},
   "outputs": [
    {
     "data": {
      "text/plain": [
       "(241, 2)"
      ]
     },
     "execution_count": 11,
     "metadata": {},
     "output_type": "execute_result"
    }
   ],
   "source": [
    "X.shape"
   ]
  },
  {
   "cell_type": "code",
   "execution_count": 12,
   "metadata": {},
   "outputs": [
    {
     "data": {
      "text/plain": [
       "<matplotlib.collections.PathCollection at 0x1214e3b20>"
      ]
     },
     "execution_count": 12,
     "metadata": {},
     "output_type": "execute_result"
    },
    {
     "data": {
      "image/png": "[encoded data removed]",
      "text/plain": [
       "<Figure size 640x480 with 1 Axes>"
      ]
     },
     "metadata": {},
     "output_type": "display_data"
    }
   ],
   "source": [
    "plt.scatter(X[:,0], X[:,1])"
   ]
  },
  {
   "cell_type": "code",
   "execution_count": 13,
   "metadata": {},
   "outputs": [],
   "source": [
    "# 3 Choose K centroids"
   ]
  },
  {
   "cell_type": "code",
   "execution_count": 14,
   "metadata": {},
   "outputs": [],
   "source": [
    "def initialize_K_centroids(X, K):\n",
    "    m,n = X.shape\n",
    "    k_rand = np.ones((K, n))\n",
    "    k_rand = X[np.random.choice(range(len(X)), K, replace=False),:]\n",
    "    return k_rand"
   ]
  },
  {
   "cell_type": "code",
   "execution_count": 15,
   "metadata": {},
   "outputs": [],
   "source": [
    "centroids_init = initialize_K_centroids(X, 4)"
   ]
  },
  {
   "cell_type": "code",
   "execution_count": 16,
   "metadata": {},
   "outputs": [
    {
     "data": {
      "text/plain": [
       "array([[-172.1648506 ,  -13.75324346],\n",
       "       [  28.22723131,  -29.58003188],\n",
       "       [  90.23812743,   23.86731158],\n",
       "       [ -98.30777028,   61.36206324]])"
      ]
     },
     "execution_count": 16,
     "metadata": {},
     "output_type": "execute_result"
    }
   ],
   "source": [
    "centroids_init"
   ]
  },
  {
   "cell_type": "code",
   "execution_count": 17,
   "metadata": {},
   "outputs": [],
   "source": [
    "# 4 Compute distances"
   ]
  },
  {
   "cell_type": "code",
   "execution_count": 18,
   "metadata": {},
   "outputs": [],
   "source": [
    "def find_closest_centroids(X, centroids):\n",
    "    m = len(X)\n",
    "    c = np.zeros(m)\n",
    "    for i in range(m):\n",
    "        distances = np.linalg.norm(X[i] - centroids, axis=1)\n",
    "        c[i] = np.argmin(distances)\n",
    "    return c"
   ]
  },
  {
   "cell_type": "code",
   "execution_count": 19,
   "metadata": {},
   "outputs": [
    {
     "data": {
      "text/plain": [
       "array([3., 2., 1., 3., 1., 2., 1., 2., 1., 2., 0., 1., 2., 1., 3., 2., 1.,\n",
       "       2., 1., 1., 1., 1., 2., 2., 2., 3., 3., 1., 3., 2., 3., 3., 3., 1.,\n",
       "       3., 2., 2., 1., 1., 1., 1., 2., 1., 1., 1., 1., 0., 3., 1., 1., 3.,\n",
       "       3., 3., 3., 2., 2., 2., 1., 1., 3., 2., 3., 1., 3., 1., 1., 1., 2.,\n",
       "       1., 2., 2., 1., 1., 3., 2., 1., 1., 2., 1., 1., 1., 1., 1., 1., 1.,\n",
       "       3., 3., 3., 2., 3., 2., 1., 3., 1., 3., 2., 2., 1., 2., 2., 2., 1.,\n",
       "       2., 2., 3., 2., 1., 3., 1., 2., 2., 2., 2., 1., 2., 2., 1., 3., 2.,\n",
       "       2., 2., 2., 2., 1., 1., 3., 1., 2., 1., 2., 1., 2., 2., 3., 1., 1.,\n",
       "       2., 1., 2., 3., 2., 2., 1., 1., 2., 1., 2., 2., 1., 1., 3., 1., 1.,\n",
       "       2., 1., 2., 1., 2., 1., 3., 0., 1., 2., 2., 2., 2., 2., 2., 3., 0.,\n",
       "       3., 2., 2., 2., 2., 3., 2., 1., 1., 2., 0., 2., 2., 2., 1., 1., 2.,\n",
       "       1., 1., 1., 2., 1., 1., 2., 1., 3., 1., 1., 1., 3., 2., 1., 3., 2.,\n",
       "       1., 2., 1., 3., 1., 2., 3., 1., 1., 2., 2., 2., 2., 0., 3., 1., 2.,\n",
       "       2., 1., 1., 2., 1., 3., 2., 1., 3., 3., 3., 3., 2., 2., 0., 0., 2.,\n",
       "       1., 1., 1.])"
      ]
     },
     "execution_count": 19,
     "metadata": {},
     "output_type": "execute_result"
    }
   ],
   "source": [
    "idx = find_closest_centroids(X, centroids_init)\n",
    "idx"
   ]
  },
  {
   "cell_type": "code",
   "execution_count": 20,
   "metadata": {},
   "outputs": [],
   "source": [
    "# 5 Update centroids"
   ]
  },
  {
   "cell_type": "code",
   "execution_count": 21,
   "metadata": {},
   "outputs": [],
   "source": [
    "def compute_means(X, idx, K):\n",
    "    m, n = X.shape\n",
    "    centroids = np.zeros((K, n))\n",
    "    for k in range(K):\n",
    "        points_belong_k = X[np.where(idx == k)]\n",
    "        centroids[k] = np.mean(points_belong_k, axis=0,)\n",
    "    return centroids"
   ]
  },
  {
   "cell_type": "code",
   "execution_count": 22,
   "metadata": {},
   "outputs": [
    {
     "data": {
      "text/plain": [
       "array([[-162.24003412,  -17.71618937],\n",
       "       [   9.16722564,   10.3806426 ],\n",
       "       [  78.00475451,   26.06025866],\n",
       "       [ -69.05302667,   19.61499455]])"
      ]
     },
     "execution_count": 22,
     "metadata": {},
     "output_type": "execute_result"
    }
   ],
   "source": [
    "centroids = compute_means(X, idx, 4)\n",
    "centroids"
   ]
  },
  {
   "cell_type": "code",
   "execution_count": 23,
   "metadata": {},
   "outputs": [],
   "source": [
    "# 6 "
   ]
  },
  {
   "cell_type": "code",
   "execution_count": 24,
   "metadata": {},
   "outputs": [],
   "source": [
    "def find_k_means(X, K, max_iters=10):\n",
    "    _, n = X.shape\n",
    "    centroids = initialize_K_centroids(X, K) \n",
    "    centroid_history = np.zeros((max_iters, K, n))\n",
    "    for i in range(max_iters):\n",
    "        idx = find_closest_centroids(X, centroids)\n",
    "        centroids = compute_means(X, idx, K)\n",
    "    \n",
    "    return centroids, idx"
   ]
  },
  {
   "cell_type": "code",
   "execution_count": 25,
   "metadata": {},
   "outputs": [],
   "source": [
    "centroids, idx = find_k_means(X, 4)"
   ]
  },
  {
   "cell_type": "code",
   "execution_count": 26,
   "metadata": {},
   "outputs": [
    {
     "data": {
      "text/plain": [
       "array([[ 17.95429274,  25.71040971],\n",
       "       [-82.03484643,   5.55229685],\n",
       "       [151.78560976,  -5.88867027],\n",
       "       [ 90.34244606,  17.71764573]])"
      ]
     },
     "execution_count": 26,
     "metadata": {},
     "output_type": "execute_result"
    }
   ],
   "source": [
    "centroids"
   ]
  },
  {
   "cell_type": "code",
   "execution_count": 27,
   "metadata": {},
   "outputs": [
    {
     "data": {
      "text/plain": [
       "array([1., 3., 0., 1., 0., 0., 0., 0., 1., 0., 1., 0., 2., 3., 1., 2., 0.,\n",
       "       0., 0., 0., 0., 0., 3., 0., 0., 1., 1., 0., 1., 0., 1., 1., 1., 1.,\n",
       "       1., 3., 3., 0., 0., 0., 1., 3., 0., 0., 0., 0., 1., 1., 0., 0., 1.,\n",
       "       1., 1., 1., 0., 0., 0., 0., 0., 1., 0., 1., 0., 1., 0., 0., 0., 0.,\n",
       "       0., 0., 2., 1., 0., 0., 2., 0., 0., 0., 0., 0., 0., 0., 0., 0., 0.,\n",
       "       1., 0., 1., 2., 1., 3., 3., 1., 0., 1., 0., 3., 0., 3., 3., 3., 0.,\n",
       "       0., 0., 0., 0., 0., 1., 0., 0., 2., 3., 3., 0., 3., 3., 1., 1., 3.,\n",
       "       0., 0., 3., 0., 0., 0., 1., 0., 3., 0., 0., 0., 0., 3., 1., 0., 0.,\n",
       "       0., 0., 3., 1., 2., 0., 0., 0., 3., 0., 3., 2., 0., 0., 1., 3., 0.,\n",
       "       3., 0., 2., 0., 2., 0., 1., 1., 0., 0., 3., 2., 2., 3., 3., 1., 1.,\n",
       "       1., 3., 2., 2., 0., 1., 3., 0., 1., 0., 1., 0., 0., 3., 0., 0., 0.,\n",
       "       0., 0., 0., 3., 1., 0., 2., 0., 1., 0., 0., 0., 1., 0., 0., 1., 0.,\n",
       "       0., 0., 0., 1., 3., 0., 1., 0., 0., 3., 3., 3., 2., 1., 1., 0., 0.,\n",
       "       3., 0., 0., 0., 1., 1., 3., 0., 1., 1., 1., 1., 3., 2., 1., 1., 0.,\n",
       "       0., 0., 0.])"
      ]
     },
     "execution_count": 27,
     "metadata": {},
     "output_type": "execute_result"
    }
   ],
   "source": [
    "idx"
   ]
  }
 ],
 "metadata": {
  "kernelspec": {
   "display_name": "Python 3.10.8 ('AI': venv)",
   "language": "python",
   "name": "python3"
  },
  "language_info": {
   "codemirror_mode": {
    "name": "ipython",
    "version": 3
   },
   "file_extension": ".py",
   "mimetype": "text/x-python",
   "name": "python",
   "nbconvert_exporter": "python",
   "pygments_lexer": "ipython3",
   "version": "3.10.8"
  },
  "vscode": {
   "interpreter": {
    "hash": "7f69f2ba0346ac2b611b7497c9488bdb674aee426956258f764229cad67bf563"
   }
  }
 },
 "nbformat": 4,
 "nbformat_minor": 2
}
